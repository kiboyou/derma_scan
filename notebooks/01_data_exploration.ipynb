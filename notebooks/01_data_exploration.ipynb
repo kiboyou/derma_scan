{
 "cells": [
  {
   "cell_type": "markdown",
   "id": "c55d7158",
   "metadata": {},
   "source": [
    "# Exploration des données\n",
    "Chargez et explorez les données (statistiques descriptives, visualisations)."
   ]
  }
 ],
 "metadata": {
  "language_info": {
   "name": "python"
  }
 },
 "nbformat": 4,
 "nbformat_minor": 5
}
