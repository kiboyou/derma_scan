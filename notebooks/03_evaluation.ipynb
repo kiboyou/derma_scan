{
 "cells": [
  {
   "cell_type": "markdown",
   "id": "38d04a11",
   "metadata": {},
   "source": [
    "# Évaluation\n",
    "Chargez le modèle entraîné et évaluez ses performances sur des données de test."
   ]
  }
 ],
 "metadata": {
  "language_info": {
   "name": "python"
  }
 },
 "nbformat": 4,
 "nbformat_minor": 5
}
