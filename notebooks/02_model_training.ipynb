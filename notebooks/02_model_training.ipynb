{
 "cells": [
  {
   "cell_type": "markdown",
   "id": "3a32d301",
   "metadata": {},
   "source": [
    "# Entraînement du modèle\n",
    "Préparez les données, définissez le modèle et lancez l'entraînement."
   ]
  }
 ],
 "metadata": {
  "language_info": {
   "name": "python"
  }
 },
 "nbformat": 4,
 "nbformat_minor": 5
}
